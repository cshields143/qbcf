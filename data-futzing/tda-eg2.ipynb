{
 "cells": [
  {
   "cell_type": "code",
   "execution_count": 1,
   "metadata": {},
   "outputs": [
    {
     "data": {
      "text/html": [
       "<div>\n",
       "<style scoped>\n",
       "    .dataframe tbody tr th:only-of-type {\n",
       "        vertical-align: middle;\n",
       "    }\n",
       "\n",
       "    .dataframe tbody tr th {\n",
       "        vertical-align: top;\n",
       "    }\n",
       "\n",
       "    .dataframe thead th {\n",
       "        text-align: right;\n",
       "    }\n",
       "</style>\n",
       "<table border=\"1\" class=\"dataframe\">\n",
       "  <thead>\n",
       "    <tr style=\"text-align: right;\">\n",
       "      <th></th>\n",
       "      <th>player</th>\n",
       "      <th>quint</th>\n",
       "      <th>home</th>\n",
       "      <th>team</th>\n",
       "      <th>opp</th>\n",
       "      <th>net%</th>\n",
       "      <th>netatt</th>\n",
       "      <th>ny</th>\n",
       "      <th>ny/a</th>\n",
       "    </tr>\n",
       "  </thead>\n",
       "  <tbody>\n",
       "    <tr>\n",
       "      <td>0</td>\n",
       "      <td>Geno Smith</td>\n",
       "      <td>47</td>\n",
       "      <td>1</td>\n",
       "      <td>NYJ</td>\n",
       "      <td>MIA</td>\n",
       "      <td>0.363636</td>\n",
       "      <td>11.0</td>\n",
       "      <td>21.0</td>\n",
       "      <td>1.909091</td>\n",
       "    </tr>\n",
       "    <tr>\n",
       "      <td>1</td>\n",
       "      <td>Ryan Tannehill</td>\n",
       "      <td>47</td>\n",
       "      <td>0</td>\n",
       "      <td>MIA</td>\n",
       "      <td>NYJ</td>\n",
       "      <td>0.636364</td>\n",
       "      <td>44.0</td>\n",
       "      <td>328.0</td>\n",
       "      <td>7.454545</td>\n",
       "    </tr>\n",
       "    <tr>\n",
       "      <td>2</td>\n",
       "      <td>Brandon Weeden</td>\n",
       "      <td>47</td>\n",
       "      <td>1</td>\n",
       "      <td>CLE</td>\n",
       "      <td>JAX</td>\n",
       "      <td>0.558140</td>\n",
       "      <td>43.0</td>\n",
       "      <td>342.0</td>\n",
       "      <td>7.953488</td>\n",
       "    </tr>\n",
       "    <tr>\n",
       "      <td>3</td>\n",
       "      <td>Joe Flacco</td>\n",
       "      <td>47</td>\n",
       "      <td>1</td>\n",
       "      <td>BAL</td>\n",
       "      <td>PIT</td>\n",
       "      <td>0.648649</td>\n",
       "      <td>37.0</td>\n",
       "      <td>237.0</td>\n",
       "      <td>6.405405</td>\n",
       "    </tr>\n",
       "    <tr>\n",
       "      <td>4</td>\n",
       "      <td>Matt Flynn</td>\n",
       "      <td>47</td>\n",
       "      <td>0</td>\n",
       "      <td>GNB</td>\n",
       "      <td>DET</td>\n",
       "      <td>0.370370</td>\n",
       "      <td>27.0</td>\n",
       "      <td>102.0</td>\n",
       "      <td>3.777778</td>\n",
       "    </tr>\n",
       "  </tbody>\n",
       "</table>\n",
       "</div>"
      ],
      "text/plain": [
       "           player  quint  home team  opp      net%  netatt     ny      ny/a\n",
       "0      Geno Smith     47     1  NYJ  MIA  0.363636    11.0   21.0  1.909091\n",
       "1  Ryan Tannehill     47     0  MIA  NYJ  0.636364    44.0  328.0  7.454545\n",
       "2  Brandon Weeden     47     1  CLE  JAX  0.558140    43.0  342.0  7.953488\n",
       "3      Joe Flacco     47     1  BAL  PIT  0.648649    37.0  237.0  6.405405\n",
       "4      Matt Flynn     47     0  GNB  DET  0.370370    27.0  102.0  3.777778"
      ]
     },
     "execution_count": 1,
     "metadata": {},
     "output_type": "execute_result"
    }
   ],
   "source": [
    "import pandas as pd\n",
    "df = pd.read_csv('clean-pass.txt')\n",
    "df.head()"
   ]
  },
  {
   "cell_type": "code",
   "execution_count": 2,
   "metadata": {},
   "outputs": [
    {
     "data": {
      "text/html": [
       "<div>\n",
       "<style scoped>\n",
       "    .dataframe tbody tr th:only-of-type {\n",
       "        vertical-align: middle;\n",
       "    }\n",
       "\n",
       "    .dataframe tbody tr th {\n",
       "        vertical-align: top;\n",
       "    }\n",
       "\n",
       "    .dataframe thead th {\n",
       "        text-align: right;\n",
       "    }\n",
       "</style>\n",
       "<table border=\"1\" class=\"dataframe\">\n",
       "  <thead>\n",
       "    <tr style=\"text-align: right;\">\n",
       "      <th></th>\n",
       "      <th>net%</th>\n",
       "      <th>netatt</th>\n",
       "      <th>ny</th>\n",
       "      <th>ny/a</th>\n",
       "    </tr>\n",
       "  </thead>\n",
       "  <tbody>\n",
       "    <tr>\n",
       "      <td>0</td>\n",
       "      <td>0.363636</td>\n",
       "      <td>11.0</td>\n",
       "      <td>21.0</td>\n",
       "      <td>1.909091</td>\n",
       "    </tr>\n",
       "    <tr>\n",
       "      <td>1</td>\n",
       "      <td>0.636364</td>\n",
       "      <td>44.0</td>\n",
       "      <td>328.0</td>\n",
       "      <td>7.454545</td>\n",
       "    </tr>\n",
       "    <tr>\n",
       "      <td>2</td>\n",
       "      <td>0.558140</td>\n",
       "      <td>43.0</td>\n",
       "      <td>342.0</td>\n",
       "      <td>7.953488</td>\n",
       "    </tr>\n",
       "    <tr>\n",
       "      <td>3</td>\n",
       "      <td>0.648649</td>\n",
       "      <td>37.0</td>\n",
       "      <td>237.0</td>\n",
       "      <td>6.405405</td>\n",
       "    </tr>\n",
       "    <tr>\n",
       "      <td>4</td>\n",
       "      <td>0.370370</td>\n",
       "      <td>27.0</td>\n",
       "      <td>102.0</td>\n",
       "      <td>3.777778</td>\n",
       "    </tr>\n",
       "  </tbody>\n",
       "</table>\n",
       "</div>"
      ],
      "text/plain": [
       "       net%  netatt     ny      ny/a\n",
       "0  0.363636    11.0   21.0  1.909091\n",
       "1  0.636364    44.0  328.0  7.454545\n",
       "2  0.558140    43.0  342.0  7.953488\n",
       "3  0.648649    37.0  237.0  6.405405\n",
       "4  0.370370    27.0  102.0  3.777778"
      ]
     },
     "execution_count": 2,
     "metadata": {},
     "output_type": "execute_result"
    }
   ],
   "source": [
    "df_tda = df[['net%', 'netatt', 'ny', 'ny/a']]\n",
    "df_tda.head()"
   ]
  },
  {
   "cell_type": "code",
   "execution_count": 16,
   "metadata": {},
   "outputs": [
    {
     "data": {
      "text/plain": [
       "1110733"
      ]
     },
     "execution_count": 16,
     "metadata": {},
     "output_type": "execute_result"
    }
   ],
   "source": [
    "import dionysus as d\n"
   ]
  },
  {
   "cell_type": "code",
   "execution_count": 19,
   "metadata": {},
   "outputs": [
    {
     "name": "stdout",
     "output_type": "stream",
     "text": [
      "Deprecated parameter. It has been replaced by max_intervals\n"
     ]
    },
    {
     "data": {
      "text/plain": [
       "<module 'matplotlib.pyplot' from '/Users/chris/opt/anaconda3/lib/python3.7/site-packages/matplotlib/pyplot.py'>"
      ]
     },
     "execution_count": 19,
     "metadata": {},
     "output_type": "execute_result"
    },
    {
     "data": {
      "image/png": "[encoded data removed]",
      "text/plain": [
       "<Figure size 432x288 with 1 Axes>"
      ]
     },
     "metadata": {
      "needs_background": "light"
     },
     "output_type": "display_data"
    }
   ],
   "source": [
    "pers = simp.persistence()\n",
    "gd.plot_persistence_diagram(pers)"
   ]
  },
  {
   "cell_type": "code",
   "execution_count": null,
   "metadata": {},
   "outputs": [],
   "source": []
  }
 ],
 "metadata": {
  "kernelspec": {
   "display_name": "Python 3",
   "language": "python",
   "name": "python3"
  },
  "language_info": {
   "codemirror_mode": {
    "name": "ipython",
    "version": 3
   },
   "file_extension": ".py",
   "mimetype": "text/x-python",
   "name": "python",
   "nbconvert_exporter": "python",
   "pygments_lexer": "ipython3",
   "version": "3.7.4"
  }
 },
 "nbformat": 4,
 "nbformat_minor": 2
}
