{
 "cells": [
  {
   "cell_type": "code",
   "execution_count": 1,
   "metadata": {},
   "outputs": [
    {
     "data": {
      "text/html": [
       "<div>\n",
       "<style scoped>\n",
       "    .dataframe tbody tr th:only-of-type {\n",
       "        vertical-align: middle;\n",
       "    }\n",
       "\n",
       "    .dataframe tbody tr th {\n",
       "        vertical-align: top;\n",
       "    }\n",
       "\n",
       "    .dataframe thead th {\n",
       "        text-align: right;\n",
       "    }\n",
       "</style>\n",
       "<table border=\"1\" class=\"dataframe\">\n",
       "  <thead>\n",
       "    <tr style=\"text-align: right;\">\n",
       "      <th></th>\n",
       "      <th>player</th>\n",
       "      <th>pca0</th>\n",
       "      <th>pca1</th>\n",
       "      <th>pca2</th>\n",
       "    </tr>\n",
       "  </thead>\n",
       "  <tbody>\n",
       "    <tr>\n",
       "      <td>0</td>\n",
       "      <td>Geno Smith</td>\n",
       "      <td>-2.758995</td>\n",
       "      <td>-0.861308</td>\n",
       "      <td>1.385933</td>\n",
       "    </tr>\n",
       "    <tr>\n",
       "      <td>1</td>\n",
       "      <td>Ryan Tannehill</td>\n",
       "      <td>0.707247</td>\n",
       "      <td>0.778092</td>\n",
       "      <td>-0.832187</td>\n",
       "    </tr>\n",
       "    <tr>\n",
       "      <td>2</td>\n",
       "      <td>Brandon Weeden</td>\n",
       "      <td>0.234863</td>\n",
       "      <td>-0.193391</td>\n",
       "      <td>-0.029960</td>\n",
       "    </tr>\n",
       "    <tr>\n",
       "      <td>3</td>\n",
       "      <td>Joe Flacco</td>\n",
       "      <td>0.514200</td>\n",
       "      <td>0.074003</td>\n",
       "      <td>0.331315</td>\n",
       "    </tr>\n",
       "    <tr>\n",
       "      <td>4</td>\n",
       "      <td>Matt Flynn</td>\n",
       "      <td>-2.359384</td>\n",
       "      <td>-0.665541</td>\n",
       "      <td>-0.062287</td>\n",
       "    </tr>\n",
       "  </tbody>\n",
       "</table>\n",
       "</div>"
      ],
      "text/plain": [
       "           player      pca0      pca1      pca2\n",
       "0      Geno Smith -2.758995 -0.861308  1.385933\n",
       "1  Ryan Tannehill  0.707247  0.778092 -0.832187\n",
       "2  Brandon Weeden  0.234863 -0.193391 -0.029960\n",
       "3      Joe Flacco  0.514200  0.074003  0.331315\n",
       "4      Matt Flynn -2.359384 -0.665541 -0.062287"
      ]
     },
     "execution_count": 1,
     "metadata": {},
     "output_type": "execute_result"
    }
   ],
   "source": [
    "import pandas as pd\n",
    "df0 = pd.read_csv('pca.txt')\n",
    "df0.head()"
   ]
  },
  {
   "cell_type": "code",
   "execution_count": 5,
   "metadata": {},
   "outputs": [
    {
     "data": {
      "text/html": [
       "<div>\n",
       "<style scoped>\n",
       "    .dataframe tbody tr th:only-of-type {\n",
       "        vertical-align: middle;\n",
       "    }\n",
       "\n",
       "    .dataframe tbody tr th {\n",
       "        vertical-align: top;\n",
       "    }\n",
       "\n",
       "    .dataframe thead th {\n",
       "        text-align: right;\n",
       "    }\n",
       "</style>\n",
       "<table border=\"1\" class=\"dataframe\">\n",
       "  <thead>\n",
       "    <tr style=\"text-align: right;\">\n",
       "      <th></th>\n",
       "      <th>player</th>\n",
       "      <th>pca0</th>\n",
       "      <th>pca1</th>\n",
       "      <th>pca2</th>\n",
       "    </tr>\n",
       "  </thead>\n",
       "  <tbody>\n",
       "    <tr>\n",
       "      <td>0</td>\n",
       "      <td>Geno Smith</td>\n",
       "      <td>1.415860</td>\n",
       "      <td>0.882803</td>\n",
       "      <td>0.787370</td>\n",
       "    </tr>\n",
       "    <tr>\n",
       "      <td>1</td>\n",
       "      <td>Ryan Tannehill</td>\n",
       "      <td>0.936428</td>\n",
       "      <td>0.830429</td>\n",
       "      <td>0.827560</td>\n",
       "    </tr>\n",
       "    <tr>\n",
       "      <td>2</td>\n",
       "      <td>Brandon Weeden</td>\n",
       "      <td>1.269573</td>\n",
       "      <td>0.850619</td>\n",
       "      <td>0.861855</td>\n",
       "    </tr>\n",
       "    <tr>\n",
       "      <td>3</td>\n",
       "      <td>Joe Flacco</td>\n",
       "      <td>0.839795</td>\n",
       "      <td>0.705724</td>\n",
       "      <td>0.950068</td>\n",
       "    </tr>\n",
       "    <tr>\n",
       "      <td>4</td>\n",
       "      <td>Matt Flynn</td>\n",
       "      <td>1.853000</td>\n",
       "      <td>1.106098</td>\n",
       "      <td>1.063228</td>\n",
       "    </tr>\n",
       "  </tbody>\n",
       "</table>\n",
       "</div>"
      ],
      "text/plain": [
       "           player      pca0      pca1      pca2\n",
       "0      Geno Smith  1.415860  0.882803  0.787370\n",
       "1  Ryan Tannehill  0.936428  0.830429  0.827560\n",
       "2  Brandon Weeden  1.269573  0.850619  0.861855\n",
       "3      Joe Flacco  0.839795  0.705724  0.950068\n",
       "4      Matt Flynn  1.853000  1.106098  1.063228"
      ]
     },
     "execution_count": 5,
     "metadata": {},
     "output_type": "execute_result"
    }
   ],
   "source": [
    "players = df0['player'].unique()\n",
    "avgs = []\n",
    "\n",
    "for p in players:\n",
    "    df = df0[df0['player'] == p]\n",
    "    avgs.append(dict(\n",
    "        player=p,\n",
    "        pca0=df['pca0'].abs().mean(),\n",
    "        pca1=df['pca1'].abs().mean(),\n",
    "        pca2=df['pca2'].abs().mean()\n",
    "    ))\n",
    "df_avg = pd.DataFrame(avgs)\n",
    "df_avg.head()"
   ]
  },
  {
   "cell_type": "code",
   "execution_count": 6,
   "metadata": {},
   "outputs": [],
   "source": [
    "df_avg.to_csv('career.txt', index=False)"
   ]
  }
 ],
 "metadata": {
  "kernelspec": {
   "display_name": "Python 3",
   "language": "python",
   "name": "python3"
  },
  "language_info": {
   "codemirror_mode": {
    "name": "ipython",
    "version": 3
   },
   "file_extension": ".py",
   "mimetype": "text/x-python",
   "name": "python",
   "nbconvert_exporter": "python",
   "pygments_lexer": "ipython3",
   "version": "3.7.4"
  }
 },
 "nbformat": 4,
 "nbformat_minor": 2
}
